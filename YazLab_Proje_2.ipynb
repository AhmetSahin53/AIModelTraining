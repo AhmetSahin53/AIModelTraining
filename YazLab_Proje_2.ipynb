{
  "cells": [
    {
      "cell_type": "markdown",
      "metadata": {
        "id": "view-in-github",
        "colab_type": "text"
      },
      "source": [
        "<a href=\"https://colab.research.google.com/github/Emircankural/116_YazLabProje_2/blob/main/YazLab_Proje_2.ipynb\" target=\"_parent\"><img src=\"https://colab.research.google.com/assets/colab-badge.svg\" alt=\"Open In Colab\"/></a>"
      ]
    },
    {
      "cell_type": "code",
      "execution_count": null,
      "metadata": {
        "colab": {
          "base_uri": "https://localhost:8080/",
          "height": 440,
          "referenced_widgets": [
            "0b87c970ea374e38b39f41be09891edf",
            "5a9db83dc5114ca39e0011b9a0334bf0",
            "ee6a54e99c484ce592a648630cec63bf",
            "9c1aa2a4017a4360b12c230b94cc0c0e",
            "21fa9b9b32974bb1b42777be6f46f51c",
            "61cc5777041040038d4ecce0d5c08a48",
            "eaac302a14a24634b4bda729c8edf0ca",
            "7c7a09bd5dd94ca4bb13ee1bcb60363e",
            "58da7e002ae247889c679e8753af4b69",
            "cc45bdb91deb497a83f4cc47b660e16b",
            "fa988d5586ed4719a3a6fee46c3bcf89"
          ]
        },
        "id": "IzbQqMksuP5C",
        "outputId": "2532109e-f9bc-4453-8cac-25823eae1d18"
      },
      "outputs": [
        {
          "output_type": "stream",
          "name": "stdout",
          "text": [
            "\n",
            "Model: bert\n"
          ]
        },
        {
          "output_type": "stream",
          "name": "stderr",
          "text": [
            "Some weights of BertForSequenceClassification were not initialized from the model checkpoint at bert-base-uncased and are newly initialized: ['classifier.bias', 'classifier.weight']\n",
            "You should probably TRAIN this model on a down-stream task to be able to use it for predictions and inference.\n"
          ]
        },
        {
          "output_type": "display_data",
          "data": {
            "text/plain": [
              "Map:   0%|          | 0/4310 [00:00<?, ? examples/s]"
            ],
            "application/vnd.jupyter.widget-view+json": {
              "version_major": 2,
              "version_minor": 0,
              "model_id": "0b87c970ea374e38b39f41be09891edf"
            }
          },
          "metadata": {}
        },
        {
          "output_type": "stream",
          "name": "stderr",
          "text": [
            "/usr/local/lib/python3.10/dist-packages/transformers/training_args.py:1575: FutureWarning: `evaluation_strategy` is deprecated and will be removed in version 4.46 of 🤗 Transformers. Use `eval_strategy` instead\n",
            "  warnings.warn(\n",
            "\u001b[34m\u001b[1mwandb\u001b[0m: \u001b[33mWARNING\u001b[0m The `run_name` is currently set to the same value as `TrainingArguments.output_dir`. If this was not intended, please specify a different run name by setting the `TrainingArguments.run_name` parameter.\n",
            "\u001b[34m\u001b[1mwandb\u001b[0m: Using wandb-core as the SDK backend.  Please refer to https://wandb.me/wandb-core for more information.\n"
          ]
        },
        {
          "output_type": "display_data",
          "data": {
            "text/plain": [
              "<IPython.core.display.Javascript object>"
            ],
            "application/javascript": [
              "\n",
              "        window._wandbApiKey = new Promise((resolve, reject) => {\n",
              "            function loadScript(url) {\n",
              "            return new Promise(function(resolve, reject) {\n",
              "                let newScript = document.createElement(\"script\");\n",
              "                newScript.onerror = reject;\n",
              "                newScript.onload = resolve;\n",
              "                document.body.appendChild(newScript);\n",
              "                newScript.src = url;\n",
              "            });\n",
              "            }\n",
              "            loadScript(\"https://cdn.jsdelivr.net/npm/postmate/build/postmate.min.js\").then(() => {\n",
              "            const iframe = document.createElement('iframe')\n",
              "            iframe.style.cssText = \"width:0;height:0;border:none\"\n",
              "            document.body.appendChild(iframe)\n",
              "            const handshake = new Postmate({\n",
              "                container: iframe,\n",
              "                url: 'https://wandb.ai/authorize'\n",
              "            });\n",
              "            const timeout = setTimeout(() => reject(\"Couldn't auto authenticate\"), 5000)\n",
              "            handshake.then(function(child) {\n",
              "                child.on('authorize', data => {\n",
              "                    clearTimeout(timeout)\n",
              "                    resolve(data)\n",
              "                });\n",
              "            });\n",
              "            })\n",
              "        });\n",
              "    "
            ]
          },
          "metadata": {}
        },
        {
          "output_type": "stream",
          "name": "stderr",
          "text": [
            "\u001b[34m\u001b[1mwandb\u001b[0m: Logging into wandb.ai. (Learn how to deploy a W&B server locally: https://wandb.me/wandb-server)\n",
            "\u001b[34m\u001b[1mwandb\u001b[0m: You can find your API key in your browser here: https://wandb.ai/authorize\n",
            "wandb: Paste an API key from your profile and hit enter, or press ctrl+c to quit:"
          ]
        },
        {
          "name": "stdout",
          "output_type": "stream",
          "text": [
            " ··········\n"
          ]
        },
        {
          "output_type": "stream",
          "name": "stderr",
          "text": [
            "\u001b[34m\u001b[1mwandb\u001b[0m: Appending key for api.wandb.ai to your netrc file: /root/.netrc\n"
          ]
        },
        {
          "output_type": "display_data",
          "data": {
            "text/plain": [
              "<IPython.core.display.HTML object>"
            ],
            "text/html": [
              "Tracking run with wandb version 0.19.1"
            ]
          },
          "metadata": {}
        },
        {
          "output_type": "display_data",
          "data": {
            "text/plain": [
              "<IPython.core.display.HTML object>"
            ],
            "text/html": [
              "Run data is saved locally in <code>/content/wandb/run-20250103_072158-zrrsy6ex</code>"
            ]
          },
          "metadata": {}
        },
        {
          "output_type": "display_data",
          "data": {
            "text/plain": [
              "<IPython.core.display.HTML object>"
            ],
            "text/html": [
              "Syncing run <strong><a href='https://wandb.ai/ahmet123698741-freelance/huggingface/runs/zrrsy6ex' target=\"_blank\">./results_bert</a></strong> to <a href='https://wandb.ai/ahmet123698741-freelance/huggingface' target=\"_blank\">Weights & Biases</a> (<a href='https://wandb.me/developer-guide' target=\"_blank\">docs</a>)<br>"
            ]
          },
          "metadata": {}
        },
        {
          "output_type": "display_data",
          "data": {
            "text/plain": [
              "<IPython.core.display.HTML object>"
            ],
            "text/html": [
              " View project at <a href='https://wandb.ai/ahmet123698741-freelance/huggingface' target=\"_blank\">https://wandb.ai/ahmet123698741-freelance/huggingface</a>"
            ]
          },
          "metadata": {}
        },
        {
          "output_type": "display_data",
          "data": {
            "text/plain": [
              "<IPython.core.display.HTML object>"
            ],
            "text/html": [
              " View run at <a href='https://wandb.ai/ahmet123698741-freelance/huggingface/runs/zrrsy6ex' target=\"_blank\">https://wandb.ai/ahmet123698741-freelance/huggingface/runs/zrrsy6ex</a>"
            ]
          },
          "metadata": {}
        },
        {
          "output_type": "display_data",
          "data": {
            "text/plain": [
              "<IPython.core.display.HTML object>"
            ],
            "text/html": [
              "\n",
              "    <div>\n",
              "      \n",
              "      <progress value='320' max='1293' style='width:300px; height:20px; vertical-align: middle;'></progress>\n",
              "      [ 320/1293 4:43:01 < 14:25:58, 0.02 it/s, Epoch 0.74/3]\n",
              "    </div>\n",
              "    <table border=\"1\" class=\"dataframe\">\n",
              "  <thead>\n",
              " <tr style=\"text-align: left;\">\n",
              "      <th>Epoch</th>\n",
              "      <th>Training Loss</th>\n",
              "      <th>Validation Loss</th>\n",
              "    </tr>\n",
              "  </thead>\n",
              "  <tbody>\n",
              "  </tbody>\n",
              "</table><p>"
            ]
          },
          "metadata": {}
        }
      ],
      "source": [
        "from IPython import get_ipython\n",
        "from IPython.display import display\n",
        "# %%\n",
        "from google.colab import files\n",
        "import xml.etree.ElementTree as ET\n",
        "import pandas as pd\n",
        "from transformers import (\n",
        "    BertTokenizer, BertForSequenceClassification,\n",
        "    RobertaTokenizer, RobertaForSequenceClassification,\n",
        "    DebertaTokenizer, DebertaForSequenceClassification,\n",
        "    AlbertTokenizer, AlbertForSequenceClassification,\n",
        "    TrainingArguments, Trainer\n",
        ")\n",
        "from datasets import Dataset\n",
        "from sklearn.metrics import classification_report, confusion_matrix, roc_curve, auc\n",
        "import matplotlib.pyplot as plt\n",
        "import seaborn as sns\n",
        "import torch\n",
        "\n",
        "# Veri Yükleme\n",
        "xml_path =\"/content/drive/MyDrive/Bütün Tarifler.xml\"\n",
        "tree = ET.parse(xml_path)\n",
        "root = tree.getroot()\n",
        "\n",
        "# XML'den DataFrame'e Dönüşüm\n",
        "data = []\n",
        "for ingredients in root.findall('Ingredients'):\n",
        "    malzemeler = [ingredient.text for ingredient in ingredients.findall('Ingredient') if ingredient.text]\n",
        "    data.append(\" \".join(malzemeler))\n",
        "\n",
        "df = pd.DataFrame(data, columns=['malzemeler'])\n",
        "\n",
        "# Boş satırları temizle\n",
        "df = df[df['malzemeler'].str.strip() != \"\"]\n",
        "\n",
        "# Etiketleme Fonksiyonu\n",
        "def etiket_olustur(malzeme_listesi):\n",
        "    if any(keyword in malzeme_listesi.lower() for keyword in [\"yoğurt\", \"bulgur\", \"sumak\"]):\n",
        "        return \"Turk\"\n",
        "    elif any(keyword in malzeme_listesi.lower() for keyword in [\"soy sauce\", \"tofu\", \"ginger\"]):\n",
        "        return \"Chinese\"\n",
        "    elif any(keyword in malzeme_listesi.lower() for keyword in [\"parmesan\", \"basil\", \"olive oil\"]):\n",
        "        return \"Italian\"\n",
        "    elif any(keyword in malzeme_listesi.lower() for keyword in [\"fish and chips\", \"marmite\", \"cheddar\"]):\n",
        "        return \"British\"\n",
        "    elif any(keyword in malzeme_listesi.lower() for keyword in [\"wasabi\", \"nori\", \"sake\"]):\n",
        "        return \"Japanese\"\n",
        "    return \"Other\"\n",
        "\n",
        "df['etiket'] = df['malzemeler'].apply(etiket_olustur)\n",
        "\n",
        "# Etiketleri sayısal değerlere dönüştürme\n",
        "df['etiket'] = pd.factorize(df['etiket'])[0]  # Etiketleri numaralandırma\n",
        "\n",
        "# Boş veri kontrolü\n",
        "if df.empty:\n",
        "    raise ValueError(\"Veri çekme işlemi sonucunda DataFrame boş kaldı. XML dosyasındaki verileri kontrol edin.\")\n",
        "\n",
        "# Tokenizasyon Fonksiyonu\n",
        "def tokenize_function(examples, tokenizer):\n",
        "    return tokenizer(examples['malzemeler'], padding='max_length', truncation=True)\n",
        "\n",
        "# Model ve Tokenizer Seçimi\n",
        "model_classes = {\n",
        "    'bert': (BertTokenizer, BertForSequenceClassification, 'bert-base-uncased'),\n",
        "    'roberta': (RobertaTokenizer, RobertaForSequenceClassification, 'roberta-base'),\n",
        "    'deberta': (DebertaTokenizer, DebertaForSequenceClassification, 'microsoft/deberta-base'),\n",
        "    'albert': (AlbertTokenizer, AlbertForSequenceClassification, 'albert-base-v2')\n",
        "}\n",
        "\n",
        "for model_name, (TokenizerClass, ModelClass, pretrained_model_name) in model_classes.items():\n",
        "    print(f\"\\nModel: {model_name}\")\n",
        "\n",
        "    # Tokenizer ve Model Hazırlığı\n",
        "    tokenizer = TokenizerClass.from_pretrained(pretrained_model_name)\n",
        "    model = ModelClass.from_pretrained(pretrained_model_name, num_labels=len(df['etiket'].unique()))\n",
        "\n",
        "    # Dataset Hazırlığı\n",
        "    dataset = Dataset.from_pandas(df)\n",
        "    tokenized_dataset = dataset.map(lambda x: tokenize_function(x, tokenizer), batched=True)\n",
        "    tokenized_dataset = tokenized_dataset.rename_column('etiket', 'labels')\n",
        "\n",
        "    # Eğitim ve Test Ayrımı\n",
        "    train_test_split = tokenized_dataset.train_test_split(test_size=0.2)\n",
        "    train_dataset = train_test_split['train']\n",
        "    test_dataset = train_test_split['test']\n",
        "\n",
        "    # Boş veri kontrolü\n",
        "    if len(train_dataset) == 0 or len(test_dataset) == 0:\n",
        "        raise ValueError(\"Eğitim veya test veri seti boş. Etiketleme ve veri bölme işlemini kontrol edin.\")\n",
        "\n",
        "    # Eğitim Argümanları\n",
        "    training_args = TrainingArguments(\n",
        "        output_dir=f\"./results_{model_name}\",\n",
        "        evaluation_strategy=\"epoch\",\n",
        "        learning_rate=2e-5,\n",
        "        per_device_train_batch_size=8,\n",
        "        num_train_epochs=3,\n",
        "        weight_decay=0.01,\n",
        "        logging_dir=f\"./logs_{model_name}\",\n",
        "        logging_steps=10,\n",
        "    )\n",
        "\n",
        "    # Model Eğitimi\n",
        "    trainer = Trainer(\n",
        "        model=model,\n",
        "        args=training_args,\n",
        "        train_dataset=train_dataset,\n",
        "        eval_dataset=test_dataset,\n",
        "    )\n",
        "\n",
        "    trainer.train()\n",
        "\n",
        "    # Model Değerlendirme\n",
        "    metrics = trainer.evaluate()\n",
        "    print(\"Değerlendirme Metrikleri:\", metrics)\n",
        "\n",
        "    # Tahminler ve Metrikler\n",
        "    predictions, labels, _ = trainer.predict(test_dataset)\n",
        "    predictions = torch.argmax(torch.tensor(predictions), axis=1)\n",
        "    print(classification_report(labels, predictions))\n",
        "\n",
        "    # Karmaşıklık Matrisi\n",
        "    cm = confusion_matrix(labels, predictions)\n",
        "    sns.heatmap(cm, annot=True, fmt='d')\n",
        "    plt.title(f\"Karmaşıklık Matrisi - {model_name}\")\n",
        "    plt.show()\n",
        "\n",
        "    # ROC Eğrisi\n",
        "    fpr, tpr, _ = roc_curve(labels, predictions, pos_label=1)\n",
        "    roc_auc = auc(fpr, tpr)\n",
        "    plt.plot(fpr, tpr, label=f\"ROC curve (area = {roc_auc:.2f})\")\n",
        "    plt.title(f\"ROC Eğrisi - {model_name}\")\n",
        "    plt.xlabel(\"False Positive Rate\")\n",
        "    plt.ylabel(\"True Positive Rate\")\n",
        "    plt.legend(loc=\"lower right\")\n",
        "    plt.show()\n"
      ]
    }
  ],
  "metadata": {
    "colab": {
      "provenance": [],
      "include_colab_link": true
    },
    "kernelspec": {
      "display_name": "Python 3",
      "name": "python3"
    },
    "language_info": {
      "name": "python"
    },
    "widgets": {
      "application/vnd.jupyter.widget-state+json": {
        "0b87c970ea374e38b39f41be09891edf": {
          "model_module": "@jupyter-widgets/controls",
          "model_name": "HBoxModel",
          "model_module_version": "1.5.0",
          "state": {
            "_dom_classes": [],
            "_model_module": "@jupyter-widgets/controls",
            "_model_module_version": "1.5.0",
            "_model_name": "HBoxModel",
            "_view_count": null,
            "_view_module": "@jupyter-widgets/controls",
            "_view_module_version": "1.5.0",
            "_view_name": "HBoxView",
            "box_style": "",
            "children": [
              "IPY_MODEL_5a9db83dc5114ca39e0011b9a0334bf0",
              "IPY_MODEL_ee6a54e99c484ce592a648630cec63bf",
              "IPY_MODEL_9c1aa2a4017a4360b12c230b94cc0c0e"
            ],
            "layout": "IPY_MODEL_21fa9b9b32974bb1b42777be6f46f51c"
          }
        },
        "5a9db83dc5114ca39e0011b9a0334bf0": {
          "model_module": "@jupyter-widgets/controls",
          "model_name": "HTMLModel",
          "model_module_version": "1.5.0",
          "state": {
            "_dom_classes": [],
            "_model_module": "@jupyter-widgets/controls",
            "_model_module_version": "1.5.0",
            "_model_name": "HTMLModel",
            "_view_count": null,
            "_view_module": "@jupyter-widgets/controls",
            "_view_module_version": "1.5.0",
            "_view_name": "HTMLView",
            "description": "",
            "description_tooltip": null,
            "layout": "IPY_MODEL_61cc5777041040038d4ecce0d5c08a48",
            "placeholder": "​",
            "style": "IPY_MODEL_eaac302a14a24634b4bda729c8edf0ca",
            "value": "Map: 100%"
          }
        },
        "ee6a54e99c484ce592a648630cec63bf": {
          "model_module": "@jupyter-widgets/controls",
          "model_name": "FloatProgressModel",
          "model_module_version": "1.5.0",
          "state": {
            "_dom_classes": [],
            "_model_module": "@jupyter-widgets/controls",
            "_model_module_version": "1.5.0",
            "_model_name": "FloatProgressModel",
            "_view_count": null,
            "_view_module": "@jupyter-widgets/controls",
            "_view_module_version": "1.5.0",
            "_view_name": "ProgressView",
            "bar_style": "success",
            "description": "",
            "description_tooltip": null,
            "layout": "IPY_MODEL_7c7a09bd5dd94ca4bb13ee1bcb60363e",
            "max": 4310,
            "min": 0,
            "orientation": "horizontal",
            "style": "IPY_MODEL_58da7e002ae247889c679e8753af4b69",
            "value": 4310
          }
        },
        "9c1aa2a4017a4360b12c230b94cc0c0e": {
          "model_module": "@jupyter-widgets/controls",
          "model_name": "HTMLModel",
          "model_module_version": "1.5.0",
          "state": {
            "_dom_classes": [],
            "_model_module": "@jupyter-widgets/controls",
            "_model_module_version": "1.5.0",
            "_model_name": "HTMLModel",
            "_view_count": null,
            "_view_module": "@jupyter-widgets/controls",
            "_view_module_version": "1.5.0",
            "_view_name": "HTMLView",
            "description": "",
            "description_tooltip": null,
            "layout": "IPY_MODEL_cc45bdb91deb497a83f4cc47b660e16b",
            "placeholder": "​",
            "style": "IPY_MODEL_fa988d5586ed4719a3a6fee46c3bcf89",
            "value": " 4310/4310 [00:14&lt;00:00, 374.96 examples/s]"
          }
        },
        "21fa9b9b32974bb1b42777be6f46f51c": {
          "model_module": "@jupyter-widgets/base",
          "model_name": "LayoutModel",
          "model_module_version": "1.2.0",
          "state": {
            "_model_module": "@jupyter-widgets/base",
            "_model_module_version": "1.2.0",
            "_model_name": "LayoutModel",
            "_view_count": null,
            "_view_module": "@jupyter-widgets/base",
            "_view_module_version": "1.2.0",
            "_view_name": "LayoutView",
            "align_content": null,
            "align_items": null,
            "align_self": null,
            "border": null,
            "bottom": null,
            "display": null,
            "flex": null,
            "flex_flow": null,
            "grid_area": null,
            "grid_auto_columns": null,
            "grid_auto_flow": null,
            "grid_auto_rows": null,
            "grid_column": null,
            "grid_gap": null,
            "grid_row": null,
            "grid_template_areas": null,
            "grid_template_columns": null,
            "grid_template_rows": null,
            "height": null,
            "justify_content": null,
            "justify_items": null,
            "left": null,
            "margin": null,
            "max_height": null,
            "max_width": null,
            "min_height": null,
            "min_width": null,
            "object_fit": null,
            "object_position": null,
            "order": null,
            "overflow": null,
            "overflow_x": null,
            "overflow_y": null,
            "padding": null,
            "right": null,
            "top": null,
            "visibility": null,
            "width": null
          }
        },
        "61cc5777041040038d4ecce0d5c08a48": {
          "model_module": "@jupyter-widgets/base",
          "model_name": "LayoutModel",
          "model_module_version": "1.2.0",
          "state": {
            "_model_module": "@jupyter-widgets/base",
            "_model_module_version": "1.2.0",
            "_model_name": "LayoutModel",
            "_view_count": null,
            "_view_module": "@jupyter-widgets/base",
            "_view_module_version": "1.2.0",
            "_view_name": "LayoutView",
            "align_content": null,
            "align_items": null,
            "align_self": null,
            "border": null,
            "bottom": null,
            "display": null,
            "flex": null,
            "flex_flow": null,
            "grid_area": null,
            "grid_auto_columns": null,
            "grid_auto_flow": null,
            "grid_auto_rows": null,
            "grid_column": null,
            "grid_gap": null,
            "grid_row": null,
            "grid_template_areas": null,
            "grid_template_columns": null,
            "grid_template_rows": null,
            "height": null,
            "justify_content": null,
            "justify_items": null,
            "left": null,
            "margin": null,
            "max_height": null,
            "max_width": null,
            "min_height": null,
            "min_width": null,
            "object_fit": null,
            "object_position": null,
            "order": null,
            "overflow": null,
            "overflow_x": null,
            "overflow_y": null,
            "padding": null,
            "right": null,
            "top": null,
            "visibility": null,
            "width": null
          }
        },
        "eaac302a14a24634b4bda729c8edf0ca": {
          "model_module": "@jupyter-widgets/controls",
          "model_name": "DescriptionStyleModel",
          "model_module_version": "1.5.0",
          "state": {
            "_model_module": "@jupyter-widgets/controls",
            "_model_module_version": "1.5.0",
            "_model_name": "DescriptionStyleModel",
            "_view_count": null,
            "_view_module": "@jupyter-widgets/base",
            "_view_module_version": "1.2.0",
            "_view_name": "StyleView",
            "description_width": ""
          }
        },
        "7c7a09bd5dd94ca4bb13ee1bcb60363e": {
          "model_module": "@jupyter-widgets/base",
          "model_name": "LayoutModel",
          "model_module_version": "1.2.0",
          "state": {
            "_model_module": "@jupyter-widgets/base",
            "_model_module_version": "1.2.0",
            "_model_name": "LayoutModel",
            "_view_count": null,
            "_view_module": "@jupyter-widgets/base",
            "_view_module_version": "1.2.0",
            "_view_name": "LayoutView",
            "align_content": null,
            "align_items": null,
            "align_self": null,
            "border": null,
            "bottom": null,
            "display": null,
            "flex": null,
            "flex_flow": null,
            "grid_area": null,
            "grid_auto_columns": null,
            "grid_auto_flow": null,
            "grid_auto_rows": null,
            "grid_column": null,
            "grid_gap": null,
            "grid_row": null,
            "grid_template_areas": null,
            "grid_template_columns": null,
            "grid_template_rows": null,
            "height": null,
            "justify_content": null,
            "justify_items": null,
            "left": null,
            "margin": null,
            "max_height": null,
            "max_width": null,
            "min_height": null,
            "min_width": null,
            "object_fit": null,
            "object_position": null,
            "order": null,
            "overflow": null,
            "overflow_x": null,
            "overflow_y": null,
            "padding": null,
            "right": null,
            "top": null,
            "visibility": null,
            "width": null
          }
        },
        "58da7e002ae247889c679e8753af4b69": {
          "model_module": "@jupyter-widgets/controls",
          "model_name": "ProgressStyleModel",
          "model_module_version": "1.5.0",
          "state": {
            "_model_module": "@jupyter-widgets/controls",
            "_model_module_version": "1.5.0",
            "_model_name": "ProgressStyleModel",
            "_view_count": null,
            "_view_module": "@jupyter-widgets/base",
            "_view_module_version": "1.2.0",
            "_view_name": "StyleView",
            "bar_color": null,
            "description_width": ""
          }
        },
        "cc45bdb91deb497a83f4cc47b660e16b": {
          "model_module": "@jupyter-widgets/base",
          "model_name": "LayoutModel",
          "model_module_version": "1.2.0",
          "state": {
            "_model_module": "@jupyter-widgets/base",
            "_model_module_version": "1.2.0",
            "_model_name": "LayoutModel",
            "_view_count": null,
            "_view_module": "@jupyter-widgets/base",
            "_view_module_version": "1.2.0",
            "_view_name": "LayoutView",
            "align_content": null,
            "align_items": null,
            "align_self": null,
            "border": null,
            "bottom": null,
            "display": null,
            "flex": null,
            "flex_flow": null,
            "grid_area": null,
            "grid_auto_columns": null,
            "grid_auto_flow": null,
            "grid_auto_rows": null,
            "grid_column": null,
            "grid_gap": null,
            "grid_row": null,
            "grid_template_areas": null,
            "grid_template_columns": null,
            "grid_template_rows": null,
            "height": null,
            "justify_content": null,
            "justify_items": null,
            "left": null,
            "margin": null,
            "max_height": null,
            "max_width": null,
            "min_height": null,
            "min_width": null,
            "object_fit": null,
            "object_position": null,
            "order": null,
            "overflow": null,
            "overflow_x": null,
            "overflow_y": null,
            "padding": null,
            "right": null,
            "top": null,
            "visibility": null,
            "width": null
          }
        },
        "fa988d5586ed4719a3a6fee46c3bcf89": {
          "model_module": "@jupyter-widgets/controls",
          "model_name": "DescriptionStyleModel",
          "model_module_version": "1.5.0",
          "state": {
            "_model_module": "@jupyter-widgets/controls",
            "_model_module_version": "1.5.0",
            "_model_name": "DescriptionStyleModel",
            "_view_count": null,
            "_view_module": "@jupyter-widgets/base",
            "_view_module_version": "1.2.0",
            "_view_name": "StyleView",
            "description_width": ""
          }
        }
      }
    }
  },
  "nbformat": 4,
  "nbformat_minor": 0
}